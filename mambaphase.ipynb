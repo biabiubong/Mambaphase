{
 "cells": [
  {
   "cell_type": "code",
   "execution_count": null,
   "id": "0bee9254",
   "metadata": {},
   "outputs": [
    {
     "data": {
      "application/vnd.jupyter.widget-view+json": {
       "model_id": "67c27c08b4484e2692e5f21b91231d85",
       "version_major": 2,
       "version_minor": 0
      },
      "text/plain": [
       "Loading checkpoint shards:   0%|          | 0/2 [00:00<?, ?it/s]"
      ]
     },
     "metadata": {},
     "output_type": "display_data"
    },
    {
     "name": "stderr",
     "output_type": "stream",
     "text": [
      "/tmp/ipykernel_4152467/2343518811.py:41: FutureWarning: You are using `torch.load` with `weights_only=False` (the current default value), which uses the default pickle module implicitly. It is possible to construct malicious pickle data which will execute arbitrary code during unpickling (See https://github.com/pytorch/pytorch/blob/main/SECURITY.md#untrusted-models for more details). In a future release, the default value for `weights_only` will be flipped to `True`. This limits the functions that could be executed during unpickling. Arbitrary objects will no longer be allowed to be loaded via this mode unless they are explicitly allowlisted by the user via `torch.serialization.add_safe_globals`. We recommend you start setting `weights_only=True` for any use case where you don't have full control of the loaded file. Please open an issue on GitHub for any issues related to this experimental feature.\n",
      "  esm_model.load_state_dict(torch.load(esm_weight_path), strict=False)\n",
      "Asking to truncate to max_length but no maximum length is provided and the model has no predefined maximum length. Default to no truncation.\n"
     ]
    },
    {
     "name": "stdout",
     "output_type": "stream",
     "text": [
      "共1条序列，计算esm表示...\n"
     ]
    },
    {
     "name": "stderr",
     "output_type": "stream",
     "text": [
      "/tmp/ipykernel_4152467/2343518811.py:32: FutureWarning: `torch.cuda.amp.autocast(args...)` is deprecated. Please use `torch.amp.autocast('cuda', args...)` instead.\n",
      "  with autocast():\n"
     ]
    }
   ],
   "source": [
    "import os\n",
    "import torch\n",
    "import torch.nn as nn\n",
    "from torch.utils.data import Dataset, DataLoader\n",
    "import pandas as pd\n",
    "from torch.nn.utils.rnn import pad_sequence\n",
    "from transformers import AutoTokenizer, AutoModelForMaskedLM\n",
    "from torch.cuda.amp import autocast\n",
    "# Load model directly\n",
    "from transformers import AutoTokenizer, AutoModelForMaskedLM\n",
    "\n",
    "current_dir = os.current_dir = os.path.abspath(\"\")\n",
    "\n",
    "\n",
    "# esm_model_path = os.path.join(current_dir,\"data\", \"esm2_t36_3B_UR50D\")\n",
    "# esm_weight_path = os.path.join(current_dir, \"data\",\"esm2_t36_3B_UR50D_mlm_finetuned.pth\")\n",
    "\n",
    "tokenizer = AutoTokenizer.from_pretrained(\"facebook/esm2_t36_3B_UR50D\")\n",
    "model = AutoModelForMaskedLM.from_pretrained(\"facebook/esm2_t36_3B_UR50D\")\n",
    "\n",
    "DEVICE = torch.device(\"cuda\" if torch.cuda.is_available() else \"cpu\")\n",
    "BATCH_SIZE = 64\n",
    "AA_LIST = \"ACDEFGHIKLMNPQRSTVWYU\"\n",
    "\n",
    "sequences = [\n",
    "    \"GHGVYGHGVYGHGPYGHGPYGHGLYW\",\n",
    "]\n",
    "\n",
    "amino_acid_to_index = {aa: idx for idx, aa in enumerate(AA_LIST)}\n",
    "\n",
    "def infer_esm_rep(model, tokenizer, sequence, device):\n",
    "    encoded_inputs = tokenizer(sequence, return_tensors='pt', padding=True, truncation=True)\n",
    "    encoded_inputs = {k: v.to(device) for k, v in encoded_inputs.items()}\n",
    "    with torch.no_grad():\n",
    "        with autocast():\n",
    "            outputs = model(**encoded_inputs, output_hidden_states=True)\n",
    "    representations = outputs.hidden_states[-1]\n",
    "    last_hidden_state = representations[:, 0, :]\n",
    "    torch.cuda.empty_cache()\n",
    "    return last_hidden_state.squeeze(0).cpu()\n",
    "\n",
    "# tokenizer = AutoTokenizer.from_pretrained(esm_model_path)\n",
    "# esm_model = AutoModelForMaskedLM.from_pretrained(esm_model_path)\n",
    "esm_model.load_state_dict(torch.load(esm_weight_path), strict=False)\n",
    "esm_model = esm_model.to(DEVICE)\n",
    "\n",
    "print(f\"共{len(sequences)}条序列，计算esm表示...\")\n",
    "esm_reps = []\n",
    "for seq in sequences:\n",
    "    if len(seq) > 4000:\n",
    "        seq = seq[:4000]\n",
    "    try:\n",
    "        rep = infer_esm_rep(esm_model, tokenizer, seq, DEVICE)\n",
    "        esm_reps.append(rep)\n",
    "    except torch.cuda.OutOfMemoryError:\n",
    "        print(\"OOM error! 忽略序列: \", seq[:10], \"...\")\n",
    "        torch.cuda.empty_cache()\n",
    "        esm_reps.append(torch.zeros(2560, dtype=torch.float))"
   ]
  },
  {
   "cell_type": "code",
   "execution_count": 8,
   "id": "3b419243",
   "metadata": {},
   "outputs": [],
   "source": [
    "#psp calculation\n",
    "import sys\n",
    "device = torch.device(\"cuda\" if torch.cuda.is_available() else \"cpu\")\n",
    "current_dir = os.current_dir = os.path.abspath(\"\")\n",
    "psp_dir = os.path.join(current_dir, \"psp\")\n",
    "\n",
    "model_path = os.path.join(current_dir, \"model\", \"pspweight\", \"best_model.pth\")\n",
    "\n",
    "sys.path.insert(0, psp_dir) \n",
    "\n",
    "from infer import Predictor\n",
    "\n",
    "predictor = Predictor(\n",
    "    model_path=model_path,\n",
    "    device=device\n",
    ")\n",
    "\n",
    "# 执行预测\n",
    "pspprobs = predictor.predict(esm_reps)"
   ]
  },
  {
   "cell_type": "code",
   "execution_count": 12,
   "id": "0977129a",
   "metadata": {},
   "outputs": [],
   "source": [
    "#scafold&client calculation\n",
    "\n",
    "current_dir = os.current_dir = os.path.abspath(\"\")\n",
    "sca_dir = os.path.join(current_dir, \"cli2scafold\")\n",
    "\n",
    "model_path = os.path.join(current_dir, \"model\", \"clientweight\", \"best_model.pth\")\n",
    "\n",
    "sys.path.insert(0, sca_dir) \n",
    "\n",
    "from inferCli import CliPredictor\n",
    "\n",
    "predictor = CliPredictor(\n",
    "    model_path=model_path,\n",
    "    device=device\n",
    ")\n",
    "\n",
    "# 执行预测\n",
    "pspprobs = predictor.predict(esm_reps)"
   ]
  },
  {
   "cell_type": "code",
   "execution_count": 13,
   "id": "fd8f5a57",
   "metadata": {},
   "outputs": [
    {
     "name": "stderr",
     "output_type": "stream",
     "text": [
      "/public/home/kngll/Mamba_phase/phsalt/phinfer.py:26: FutureWarning: You are using `torch.load` with `weights_only=False` (the current default value), which uses the default pickle module implicitly. It is possible to construct malicious pickle data which will execute arbitrary code during unpickling (See https://github.com/pytorch/pytorch/blob/main/SECURITY.md#untrusted-models for more details). In a future release, the default value for `weights_only` will be flipped to `True`. This limits the functions that could be executed during unpickling. Arbitrary objects will no longer be allowed to be loaded via this mode unless they are explicitly allowlisted by the user via `torch.serialization.add_safe_globals`. We recommend you start setting `weights_only=True` for any use case where you don't have full control of the loaded file. Please open an issue on GitHub for any issues related to this experimental feature.\n",
      "  self.model.load_state_dict(torch.load(model_path, map_location=self.device))\n"
     ]
    }
   ],
   "source": [
    "#ph calculation\n",
    "current_dir = os.current_dir = os.path.abspath(\"\")\n",
    "ph_dir = os.path.join(current_dir, \"phsalt\")\n",
    "\n",
    "\n",
    "model_path = os.path.join(current_dir, \"model\", \"phweight\", \"best_model.pth\")\n",
    "\n",
    "sys.path.insert(0, ph_dir)\n",
    "\n",
    "from phinfer import PHpredictor\n",
    "\n",
    "predictor = PHpredictor(\n",
    "    model_path=model_path,\n",
    ")\n",
    "\n",
    "# 执行预测\n",
    "phprobs = predictor.predict(esm_reps)"
   ]
  },
  {
   "cell_type": "code",
   "execution_count": 15,
   "id": "9cf60e93",
   "metadata": {},
   "outputs": [
    {
     "name": "stderr",
     "output_type": "stream",
     "text": [
      "/public/home/kngll/Mamba_phase/phsalt/saltinfer.py:30: FutureWarning: You are using `torch.load` with `weights_only=False` (the current default value), which uses the default pickle module implicitly. It is possible to construct malicious pickle data which will execute arbitrary code during unpickling (See https://github.com/pytorch/pytorch/blob/main/SECURITY.md#untrusted-models for more details). In a future release, the default value for `weights_only` will be flipped to `True`. This limits the functions that could be executed during unpickling. Arbitrary objects will no longer be allowed to be loaded via this mode unless they are explicitly allowlisted by the user via `torch.serialization.add_safe_globals`. We recommend you start setting `weights_only=True` for any use case where you don't have full control of the loaded file. Please open an issue on GitHub for any issues related to this experimental feature.\n",
      "  self.model.load_state_dict(torch.load(model_path, map_location=self.device))\n"
     ]
    }
   ],
   "source": [
    "\n",
    "\n",
    "\n",
    "#salt calculation\n",
    "current_dir = os.current_dir = os.path.abspath(\"\")\n",
    "salt_dir = os.path.join(current_dir, \"phsalt\")\n",
    "\n",
    "model_path = os.path.join(current_dir, \"model\", \"saltweight\", \"best_model.pth\")\n",
    "\n",
    "sys.path.insert(0, salt_dir)\n",
    "\n",
    "from saltinfer import saltPredictor\n",
    "predictor = saltPredictor(\n",
    "    model_path=model_path,\n",
    ")\n",
    "# 执行预测\n",
    "saltprobs = predictor.predict(esm_reps)"
   ]
  }
 ],
 "metadata": {
  "kernelspec": {
   "display_name": "deepstabp",
   "language": "python",
   "name": "python3"
  },
  "language_info": {
   "codemirror_mode": {
    "name": "ipython",
    "version": 3
   },
   "file_extension": ".py",
   "mimetype": "text/x-python",
   "name": "python",
   "nbconvert_exporter": "python",
   "pygments_lexer": "ipython3",
   "version": "3.10.14"
  }
 },
 "nbformat": 4,
 "nbformat_minor": 5
}
